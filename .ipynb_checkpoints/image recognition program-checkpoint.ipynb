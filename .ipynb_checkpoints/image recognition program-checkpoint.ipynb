{
 "cells": [
  {
   "cell_type": "code",
   "execution_count": 1,
   "metadata": {},
   "outputs": [],
   "source": [
    "from mnist_loader import load_data_wrapper\n",
    "import numpy as np\n",
    "import random \n",
    "import matplotlib.pyplot as plt\n"
   ]
  },
  {
   "cell_type": "code",
   "execution_count": 2,
   "metadata": {},
   "outputs": [],
   "source": [
    "training_data , validation_data , test_data = load_data_wrapper()"
   ]
  },
  {
   "cell_type": "code",
   "execution_count": 3,
   "metadata": {},
   "outputs": [],
   "source": [
    "def plot_images(images):\n",
    "    \"\"\" Plot a list of MNIST images.\n",
    "        Argument images is a list of (image, label) tuples. \n",
    "    \"\"\"\n",
    "    fig, axes = plt.subplots(nrows=1, ncols=len(images))\n",
    "    for j, ax in enumerate(axes):\n",
    "        ax.matshow(images[j][0].reshape(28,28), cmap = plt.cm.binary)\n",
    "        ax.set_xticks([])\n",
    "        ax.set_yticks([])\n",
    "    plt.show()\n",
    "    "
   ]
  },
  {
   "cell_type": "code",
   "execution_count": 4,
   "metadata": {},
   "outputs": [],
   "source": [
    "def predict(images , w1 , w2 , B1 , B2 ):\n",
    "    prediction = []\n",
    "    for im in images:\n",
    "        a = apply_NN(im[0] , w1 , w2 , B1 , B2 )\n",
    "        prediction.append(np.argmax(a))\n",
    "    return prediction\n"
   ]
  },
  {
   "cell_type": "code",
   "execution_count": 5,
   "metadata": {},
   "outputs": [],
   "source": [
    "def sigmoid(x):\n",
    "    \"\"\"sigmoid function\"\"\"\n",
    "    return 1/(1+ np.exp(-x))\n"
   ]
  },
  {
   "cell_type": "code",
   "execution_count": 6,
   "metadata": {},
   "outputs": [],
   "source": [
    "def sigmoid_prime(x):\n",
    "    \"\"\"Derivation of sigmoid function\"\"\"\n",
    "    return sigmoid(x) * (1-sigmoid(x))"
   ]
  },
  {
   "cell_type": "code",
   "execution_count": 7,
   "metadata": {},
   "outputs": [],
   "source": [
    "def apply_NN(x , W1 , W2 , B1 , B2):\n",
    "    z1 = np.dot(W1,x) + B1\n",
    "    A1 = sigmoid(z1)\n",
    "    z2 = np.dot(W2,A1) + B2\n",
    "    A2 = sigmoid(z2)\n",
    "    return A2\n"
   ]
  },
  {
   "cell_type": "code",
   "execution_count": 8,
   "metadata": {},
   "outputs": [],
   "source": [
    "def vectorize_mini_batch(mini_batch):\n",
    "    \"\"\"Given a minibatch of (image,label) tuples \n",
    "    return the tuple X,Y where X contains all of the images and Y contains\n",
    "    all of the labels stacked horizontally \"\"\"\n",
    "    mini_batch_x = []\n",
    "    mini_batch_y = []\n",
    "    for i in range(0, len(mini_batch)):\n",
    "        mini_batch_x.append(mini_batch[i][0])\n",
    "        mini_batch_y.append(mini_batch[i][1])\n",
    "    X = np.hstack(mini_batch_x)\n",
    "    Y = np.hstack(mini_batch_y)\n",
    "    return X, Y "
   ]
  },
  {
   "cell_type": "code",
   "execution_count": 9,
   "metadata": {},
   "outputs": [],
   "source": [
    "def SGD(training_data , epochs , mini_batch_size , eta , test_data):\n",
    "    \"\"\"Gradient descent.\n",
    "    Epochs: the number of times the entire training_data is examined.\n",
    "    mini_batch_size: the number of images used to approximate the gradient \n",
    "    each step of the gradient descent.\n",
    "    eta: the learning rate or the step size\n",
    "    test_data: check accuracy of the model against the test_data every epoc\n",
    "    \"\"\"\n",
    "    n = len(training_data)\n",
    "    n_test = len(test_data)\n",
    "    \n",
    "    w1 = np.random.randn(30 , 784)\n",
    "    w2 = np.random.randn(10 , 30)\n",
    "    b1 = np.random.randn(30 , 1)\n",
    "    b2 = np.random.randn(10 , 1)\n",
    "    \n",
    "    for j in range(epochs):\n",
    "        random.shuffle(training_data)\n",
    "        for k in range ( 0 , n , mini_batch_size):\n",
    "            mini_batch =  training_data[k : k+mini_batch_size]\n",
    "            x , y = vectorize_mini_batch(mini_batch)\n",
    "            \n",
    "            # feed forward\n",
    "            z1 = np.dot(w1, x)+b1\n",
    "            A1 = sigmoid(z1)\n",
    "            z2 = np.dot(w2, A1)+b2\n",
    "            A2 = sigmoid(z2)\n",
    "            \n",
    "            #backpropagate\n",
    "            dz2 = 1/mini_batch_size* (A2 - y )*sigmoid_prime(z2) #fundamental equation 1\n",
    "            dw2 = np.dot(dz2 , A1.T)                                         #equation 3\n",
    "            db2 = 1/mini_batch_size*np.sum(dz2 , axis = 1 , keepdims = True) #equation 4\n",
    "            \n",
    "            dz1 = 1/mini_batch_size* np.dot(w2.T,dz2) * sigmoid_prime(z1)    #equation 2\n",
    "            dw1 = np.dot(dz1,x.T)            #equation 3 \n",
    "            db1 = 1/mini_batch_size*np.sum(dz1 , axis = 1 , keepdims = True )#equation 4\n",
    "            \n",
    "            #update paratmeters \n",
    "            w2 = w2 - eta*dw2 \n",
    "            w1 = w1 - eta*dw1\n",
    "            b2 = b2 - eta*db2\n",
    "            b1 = b1 - eta*db1\n",
    "            \n",
    "        #after every Epoch, check the accuracy of model \n",
    "        test_result = [( np.argmax(apply_NN(x,w1,w2,b1,b2)) , y) for (x,y) in test_data]\n",
    "        num_correct = sum(int ( x == y )  for (x, y) in test_result )\n",
    "        print (\" Epoch {} : {} / {}\".format(j , num_correct , n_test));\n",
    "        \n",
    "    return w1,b1,w2,b2\n"
   ]
  },
  {
   "cell_type": "code",
   "execution_count": 10,
   "metadata": {},
   "outputs": [
    {
     "name": "stdout",
     "output_type": "stream",
     "text": [
      " Epoch 0 : 8275 / 10000\n",
      " Epoch 1 : 8713 / 10000\n",
      " Epoch 2 : 8905 / 10000\n",
      " Epoch 3 : 8994 / 10000\n",
      " Epoch 4 : 9078 / 10000\n",
      " Epoch 5 : 9081 / 10000\n",
      " Epoch 6 : 9092 / 10000\n",
      " Epoch 7 : 9139 / 10000\n",
      " Epoch 8 : 9188 / 10000\n",
      " Epoch 9 : 9216 / 10000\n",
      " Epoch 10 : 9236 / 10000\n",
      " Epoch 11 : 9250 / 10000\n",
      " Epoch 12 : 9260 / 10000\n",
      " Epoch 13 : 9277 / 10000\n",
      " Epoch 14 : 9292 / 10000\n",
      " Epoch 15 : 9282 / 10000\n",
      " Epoch 16 : 9297 / 10000\n",
      " Epoch 17 : 9312 / 10000\n",
      " Epoch 18 : 9332 / 10000\n",
      " Epoch 19 : 9331 / 10000\n",
      " Epoch 20 : 9321 / 10000\n",
      " Epoch 21 : 9346 / 10000\n",
      " Epoch 22 : 9357 / 10000\n",
      " Epoch 23 : 9359 / 10000\n",
      " Epoch 24 : 9358 / 10000\n",
      " Epoch 25 : 9367 / 10000\n",
      " Epoch 26 : 9370 / 10000\n",
      " Epoch 27 : 9380 / 10000\n",
      " Epoch 28 : 9379 / 10000\n",
      " Epoch 29 : 9385 / 10000\n"
     ]
    }
   ],
   "source": [
    "w1 , b1 , w2 , b2 = SGD(training_data , 30 , 10 , 3 , test_data)"
   ]
  },
  {
   "cell_type": "code",
   "execution_count": 13,
   "metadata": {},
   "outputs": [
    {
     "data": {
      "text/plain": [
       "[8, 4, 2, 1, 1, 1, 1, 3, 0, 1]"
      ]
     },
     "execution_count": 13,
     "metadata": {},
     "output_type": "execute_result"
    }
   ],
   "source": [
    "predict(training_data[0:10] , w1,w2, b1 , b2)\n"
   ]
  },
  {
   "cell_type": "code",
   "execution_count": 14,
   "metadata": {},
   "outputs": [
    {
     "data": {
      "image/png": "[encoded data removed]",
      "text/plain": [
       "<Figure size 432x288 with 10 Axes>"
      ]
     },
     "metadata": {},
     "output_type": "display_data"
    }
   ],
   "source": [
    "plot_images(training_data[0:10])"
   ]
  },
  {
   "cell_type": "code",
   "execution_count": null,
   "metadata": {},
   "outputs": [],
   "source": []
  }
 ],
 "metadata": {
  "kernelspec": {
   "display_name": "Python 3",
   "language": "python",
   "name": "python3"
  },
  "language_info": {
   "codemirror_mode": {
    "name": "ipython",
    "version": 3
   },
   "file_extension": ".py",
   "mimetype": "text/x-python",
   "name": "python",
   "nbconvert_exporter": "python",
   "pygments_lexer": "ipython3",
   "version": "3.7.6"
  }
 },
 "nbformat": 4,
 "nbformat_minor": 4
}
